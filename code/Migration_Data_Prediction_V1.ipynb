{
  "nbformat": 4,
  "nbformat_minor": 0,
  "metadata": {
    "colab": {
      "name": "Migration Data Prediction V1",
      "provenance": [],
      "collapsed_sections": [],
      "include_colab_link": true
    },
    "kernelspec": {
      "name": "python3",
      "display_name": "Python 3"
    }
  },
  "cells": [
    {
      "cell_type": "markdown",
      "metadata": {
        "id": "view-in-github",
        "colab_type": "text"
      },
      "source": [
        "<a href=\"https://colab.research.google.com/github/JSRist0028/animalmigration/blob/main/code/Migration_Data_Prediction_V1.ipynb\" target=\"_parent\"><img src=\"https://colab.research.google.com/assets/colab-badge.svg\" alt=\"Open In Colab\"/></a>"
      ]
    },
    {
      "cell_type": "code",
      "metadata": {
        "colab": {
          "base_uri": "https://localhost:8080/"
        },
        "id": "ew8IxpzYFguF",
        "outputId": "f2dab7a7-649e-4c58-a8d4-ce944e6ef22c"
      },
      "source": [
        "!pip install geopandas\n",
        "!pip install shapely"
      ],
      "execution_count": 1,
      "outputs": [
        {
          "output_type": "stream",
          "text": [
            "Collecting geopandas\n",
            "\u001b[?25l  Downloading https://files.pythonhosted.org/packages/d7/bf/e9cefb69d39155d122b6ddca53893b61535fa6ffdad70bf5ef708977f53f/geopandas-0.9.0-py2.py3-none-any.whl (994kB)\n",
            "\u001b[K     |████████████████████████████████| 1.0MB 16.3MB/s \n",
            "\u001b[?25hCollecting pyproj>=2.2.0\n",
            "\u001b[?25l  Downloading https://files.pythonhosted.org/packages/b1/72/d52e9ca81caef056062d71991b0e9b1d16af042245627c5d0e4916a36c4f/pyproj-3.0.1-cp37-cp37m-manylinux2010_x86_64.whl (6.5MB)\n",
            "\u001b[K     |████████████████████████████████| 6.5MB 33.7MB/s \n",
            "\u001b[?25hRequirement already satisfied: pandas>=0.24.0 in /usr/local/lib/python3.7/dist-packages (from geopandas) (1.1.5)\n",
            "Requirement already satisfied: shapely>=1.6 in /usr/local/lib/python3.7/dist-packages (from geopandas) (1.7.1)\n",
            "Collecting fiona>=1.8\n",
            "\u001b[?25l  Downloading https://files.pythonhosted.org/packages/ea/2a/404b22883298a3efe9c6ef8d67acbf2c38443fa366ee9cd4cd34e17626ea/Fiona-1.8.19-cp37-cp37m-manylinux1_x86_64.whl (15.3MB)\n",
            "\u001b[K     |████████████████████████████████| 15.3MB 323kB/s \n",
            "\u001b[?25hRequirement already satisfied: certifi in /usr/local/lib/python3.7/dist-packages (from pyproj>=2.2.0->geopandas) (2020.12.5)\n",
            "Requirement already satisfied: numpy>=1.15.4 in /usr/local/lib/python3.7/dist-packages (from pandas>=0.24.0->geopandas) (1.19.5)\n",
            "Requirement already satisfied: python-dateutil>=2.7.3 in /usr/local/lib/python3.7/dist-packages (from pandas>=0.24.0->geopandas) (2.8.1)\n",
            "Requirement already satisfied: pytz>=2017.2 in /usr/local/lib/python3.7/dist-packages (from pandas>=0.24.0->geopandas) (2018.9)\n",
            "Requirement already satisfied: click<8,>=4.0 in /usr/local/lib/python3.7/dist-packages (from fiona>=1.8->geopandas) (7.1.2)\n",
            "Collecting cligj>=0.5\n",
            "  Downloading https://files.pythonhosted.org/packages/42/1e/947eadf10d6804bf276eb8a038bd5307996dceaaa41cfd21b7a15ec62f5d/cligj-0.7.1-py3-none-any.whl\n",
            "Requirement already satisfied: attrs>=17 in /usr/local/lib/python3.7/dist-packages (from fiona>=1.8->geopandas) (20.3.0)\n",
            "Collecting click-plugins>=1.0\n",
            "  Downloading https://files.pythonhosted.org/packages/e9/da/824b92d9942f4e472702488857914bdd50f73021efea15b4cad9aca8ecef/click_plugins-1.1.1-py2.py3-none-any.whl\n",
            "Requirement already satisfied: six>=1.7 in /usr/local/lib/python3.7/dist-packages (from fiona>=1.8->geopandas) (1.15.0)\n",
            "Collecting munch\n",
            "  Downloading https://files.pythonhosted.org/packages/cc/ab/85d8da5c9a45e072301beb37ad7f833cd344e04c817d97e0cc75681d248f/munch-2.5.0-py2.py3-none-any.whl\n",
            "Installing collected packages: pyproj, cligj, click-plugins, munch, fiona, geopandas\n",
            "Successfully installed click-plugins-1.1.1 cligj-0.7.1 fiona-1.8.19 geopandas-0.9.0 munch-2.5.0 pyproj-3.0.1\n",
            "Requirement already satisfied: shapely in /usr/local/lib/python3.7/dist-packages (1.7.1)\n"
          ],
          "name": "stdout"
        }
      ]
    },
    {
      "cell_type": "code",
      "metadata": {
        "id": "-dA5jdXkWLxO"
      },
      "source": [
        "import pandas as pd\n",
        "import sklearn.preprocessing\n",
        "import sklearn.manifold \n",
        "import matplotlib.pyplot as plt\n",
        "import numpy as np\n",
        "import math"
      ],
      "execution_count": 3,
      "outputs": []
    },
    {
      "cell_type": "markdown",
      "metadata": {
        "id": "IEoacm-CyUH_"
      },
      "source": [
        "**Change the csv file and whether or not to include temperature here:**"
      ]
    },
    {
      "cell_type": "code",
      "metadata": {
        "id": "paYMy5ZddIYn",
        "colab": {
          "base_uri": "https://localhost:8080/",
          "height": 416
        },
        "outputId": "2b689e55-fef8-4162-944b-9fd8456a94f7"
      },
      "source": [
        "# import data with combined temperature and tracking information\n",
        "\n",
        "data_raw = pd.read_csv('https://github.com/JSRist0028/animalmigration/blob/main/data/barnacle_geese_data_matrix?raw=true')\n",
        "\n",
        "# geese data: ('https://github.com/JSRist0028/animalmigration/blob/main/data/barnacle_geese_data_matrix?raw=true')\n",
        "# whale data: ('https://raw.githubusercontent.com/JSRist0028/animalmigration/main/data/Azores%20Great%20Whales%20Satellite%20Telemetry%20Program%20.csv')\n",
        "\n",
        "\n",
        "includeTemp = True; \n",
        "data_raw"
      ],
      "execution_count": 4,
      "outputs": [
        {
          "output_type": "execute_result",
          "data": {
            "text/html": [
              "<div>\n",
              "<style scoped>\n",
              "    .dataframe tbody tr th:only-of-type {\n",
              "        vertical-align: middle;\n",
              "    }\n",
              "\n",
              "    .dataframe tbody tr th {\n",
              "        vertical-align: top;\n",
              "    }\n",
              "\n",
              "    .dataframe thead th {\n",
              "        text-align: right;\n",
              "    }\n",
              "</style>\n",
              "<table border=\"1\" class=\"dataframe\">\n",
              "  <thead>\n",
              "    <tr style=\"text-align: right;\">\n",
              "      <th></th>\n",
              "      <th>row number</th>\n",
              "      <th>timestamp</th>\n",
              "      <th>latitude</th>\n",
              "      <th>longitude</th>\n",
              "      <th>height</th>\n",
              "      <th>speed</th>\n",
              "      <th>heading</th>\n",
              "      <th>birdID</th>\n",
              "      <th>tavg</th>\n",
              "      <th>tmin</th>\n",
              "      <th>tmax</th>\n",
              "      <th>prcp</th>\n",
              "      <th>snow</th>\n",
              "      <th>wdir</th>\n",
              "      <th>wspd</th>\n",
              "      <th>wpgt</th>\n",
              "      <th>pres</th>\n",
              "      <th>tsun</th>\n",
              "      <th>station_lat</th>\n",
              "      <th>station_long</th>\n",
              "    </tr>\n",
              "  </thead>\n",
              "  <tbody>\n",
              "    <tr>\n",
              "      <th>0</th>\n",
              "      <td>0</td>\n",
              "      <td>2009-02-10 10:00:00</td>\n",
              "      <td>53.38117</td>\n",
              "      <td>6.10583</td>\n",
              "      <td>1.0</td>\n",
              "      <td>0.0</td>\n",
              "      <td>51.0</td>\n",
              "      <td>78033</td>\n",
              "      <td>1.8</td>\n",
              "      <td>0.6</td>\n",
              "      <td>3.1</td>\n",
              "      <td>NaN</td>\n",
              "      <td>NaN</td>\n",
              "      <td>286.7</td>\n",
              "      <td>22.2</td>\n",
              "      <td>NaN</td>\n",
              "      <td>NaN</td>\n",
              "      <td>NaN</td>\n",
              "      <td>53.4167</td>\n",
              "      <td>6.2000</td>\n",
              "    </tr>\n",
              "    <tr>\n",
              "      <th>1</th>\n",
              "      <td>1</td>\n",
              "      <td>2009-02-10 15:00:00</td>\n",
              "      <td>53.39283</td>\n",
              "      <td>6.18700</td>\n",
              "      <td>1.0</td>\n",
              "      <td>1.0</td>\n",
              "      <td>351.0</td>\n",
              "      <td>78033</td>\n",
              "      <td>1.8</td>\n",
              "      <td>0.6</td>\n",
              "      <td>3.1</td>\n",
              "      <td>NaN</td>\n",
              "      <td>NaN</td>\n",
              "      <td>286.7</td>\n",
              "      <td>22.2</td>\n",
              "      <td>NaN</td>\n",
              "      <td>NaN</td>\n",
              "      <td>NaN</td>\n",
              "      <td>53.4167</td>\n",
              "      <td>6.2000</td>\n",
              "    </tr>\n",
              "    <tr>\n",
              "      <th>2</th>\n",
              "      <td>2</td>\n",
              "      <td>2009-02-11 10:00:00</td>\n",
              "      <td>53.40483</td>\n",
              "      <td>6.15600</td>\n",
              "      <td>1.0</td>\n",
              "      <td>0.0</td>\n",
              "      <td>98.0</td>\n",
              "      <td>78033</td>\n",
              "      <td>1.9</td>\n",
              "      <td>0.8</td>\n",
              "      <td>4.0</td>\n",
              "      <td>NaN</td>\n",
              "      <td>NaN</td>\n",
              "      <td>NaN</td>\n",
              "      <td>NaN</td>\n",
              "      <td>NaN</td>\n",
              "      <td>NaN</td>\n",
              "      <td>NaN</td>\n",
              "      <td>53.4167</td>\n",
              "      <td>6.2000</td>\n",
              "    </tr>\n",
              "    <tr>\n",
              "      <th>3</th>\n",
              "      <td>3</td>\n",
              "      <td>2009-02-11 15:00:00</td>\n",
              "      <td>53.40250</td>\n",
              "      <td>6.15683</td>\n",
              "      <td>1.0</td>\n",
              "      <td>0.0</td>\n",
              "      <td>153.0</td>\n",
              "      <td>78033</td>\n",
              "      <td>1.9</td>\n",
              "      <td>0.8</td>\n",
              "      <td>4.0</td>\n",
              "      <td>NaN</td>\n",
              "      <td>NaN</td>\n",
              "      <td>NaN</td>\n",
              "      <td>NaN</td>\n",
              "      <td>NaN</td>\n",
              "      <td>NaN</td>\n",
              "      <td>NaN</td>\n",
              "      <td>53.4167</td>\n",
              "      <td>6.2000</td>\n",
              "    </tr>\n",
              "    <tr>\n",
              "      <th>4</th>\n",
              "      <td>4</td>\n",
              "      <td>2009-02-12 10:00:00</td>\n",
              "      <td>53.36217</td>\n",
              "      <td>6.13750</td>\n",
              "      <td>1.0</td>\n",
              "      <td>0.0</td>\n",
              "      <td>61.0</td>\n",
              "      <td>78033</td>\n",
              "      <td>2.1</td>\n",
              "      <td>1.0</td>\n",
              "      <td>3.9</td>\n",
              "      <td>NaN</td>\n",
              "      <td>NaN</td>\n",
              "      <td>242.1</td>\n",
              "      <td>25.5</td>\n",
              "      <td>NaN</td>\n",
              "      <td>NaN</td>\n",
              "      <td>NaN</td>\n",
              "      <td>53.4167</td>\n",
              "      <td>6.2000</td>\n",
              "    </tr>\n",
              "    <tr>\n",
              "      <th>...</th>\n",
              "      <td>...</td>\n",
              "      <td>...</td>\n",
              "      <td>...</td>\n",
              "      <td>...</td>\n",
              "      <td>...</td>\n",
              "      <td>...</td>\n",
              "      <td>...</td>\n",
              "      <td>...</td>\n",
              "      <td>...</td>\n",
              "      <td>...</td>\n",
              "      <td>...</td>\n",
              "      <td>...</td>\n",
              "      <td>...</td>\n",
              "      <td>...</td>\n",
              "      <td>...</td>\n",
              "      <td>...</td>\n",
              "      <td>...</td>\n",
              "      <td>...</td>\n",
              "      <td>...</td>\n",
              "      <td>...</td>\n",
              "    </tr>\n",
              "    <tr>\n",
              "      <th>21097</th>\n",
              "      <td>21097</td>\n",
              "      <td>2009-06-21 15:00:00</td>\n",
              "      <td>60.31100</td>\n",
              "      <td>27.08550</td>\n",
              "      <td>1.0</td>\n",
              "      <td>0.0</td>\n",
              "      <td>59.0</td>\n",
              "      <td>78042b</td>\n",
              "      <td>14.7</td>\n",
              "      <td>11.3</td>\n",
              "      <td>18.8</td>\n",
              "      <td>NaN</td>\n",
              "      <td>NaN</td>\n",
              "      <td>NaN</td>\n",
              "      <td>4.8</td>\n",
              "      <td>NaN</td>\n",
              "      <td>1026.1</td>\n",
              "      <td>NaN</td>\n",
              "      <td>60.2833</td>\n",
              "      <td>27.1833</td>\n",
              "    </tr>\n",
              "    <tr>\n",
              "      <th>21098</th>\n",
              "      <td>21098</td>\n",
              "      <td>2009-06-22 06:00:00</td>\n",
              "      <td>60.31100</td>\n",
              "      <td>27.08567</td>\n",
              "      <td>1.0</td>\n",
              "      <td>0.0</td>\n",
              "      <td>328.0</td>\n",
              "      <td>78042b</td>\n",
              "      <td>17.5</td>\n",
              "      <td>13.5</td>\n",
              "      <td>21.2</td>\n",
              "      <td>NaN</td>\n",
              "      <td>NaN</td>\n",
              "      <td>145.0</td>\n",
              "      <td>8.3</td>\n",
              "      <td>NaN</td>\n",
              "      <td>1027.1</td>\n",
              "      <td>NaN</td>\n",
              "      <td>60.2833</td>\n",
              "      <td>27.1833</td>\n",
              "    </tr>\n",
              "    <tr>\n",
              "      <th>21099</th>\n",
              "      <td>21099</td>\n",
              "      <td>2009-06-22 09:00:00</td>\n",
              "      <td>60.31100</td>\n",
              "      <td>27.08567</td>\n",
              "      <td>1.0</td>\n",
              "      <td>0.0</td>\n",
              "      <td>222.0</td>\n",
              "      <td>78042b</td>\n",
              "      <td>17.5</td>\n",
              "      <td>13.5</td>\n",
              "      <td>21.2</td>\n",
              "      <td>NaN</td>\n",
              "      <td>NaN</td>\n",
              "      <td>145.0</td>\n",
              "      <td>8.3</td>\n",
              "      <td>NaN</td>\n",
              "      <td>1027.1</td>\n",
              "      <td>NaN</td>\n",
              "      <td>60.2833</td>\n",
              "      <td>27.1833</td>\n",
              "    </tr>\n",
              "    <tr>\n",
              "      <th>21100</th>\n",
              "      <td>21100</td>\n",
              "      <td>2009-06-22 12:00:00</td>\n",
              "      <td>60.31100</td>\n",
              "      <td>27.08550</td>\n",
              "      <td>1.0</td>\n",
              "      <td>0.0</td>\n",
              "      <td>6.0</td>\n",
              "      <td>78042b</td>\n",
              "      <td>17.5</td>\n",
              "      <td>13.5</td>\n",
              "      <td>21.2</td>\n",
              "      <td>NaN</td>\n",
              "      <td>NaN</td>\n",
              "      <td>145.0</td>\n",
              "      <td>8.3</td>\n",
              "      <td>NaN</td>\n",
              "      <td>1027.1</td>\n",
              "      <td>NaN</td>\n",
              "      <td>60.2833</td>\n",
              "      <td>27.1833</td>\n",
              "    </tr>\n",
              "    <tr>\n",
              "      <th>21101</th>\n",
              "      <td>21101</td>\n",
              "      <td>2009-06-22 15:00:00</td>\n",
              "      <td>60.31100</td>\n",
              "      <td>27.08567</td>\n",
              "      <td>1.0</td>\n",
              "      <td>0.0</td>\n",
              "      <td>271.0</td>\n",
              "      <td>78042b</td>\n",
              "      <td>17.5</td>\n",
              "      <td>13.5</td>\n",
              "      <td>21.2</td>\n",
              "      <td>NaN</td>\n",
              "      <td>NaN</td>\n",
              "      <td>145.0</td>\n",
              "      <td>8.3</td>\n",
              "      <td>NaN</td>\n",
              "      <td>1027.1</td>\n",
              "      <td>NaN</td>\n",
              "      <td>60.2833</td>\n",
              "      <td>27.1833</td>\n",
              "    </tr>\n",
              "  </tbody>\n",
              "</table>\n",
              "<p>21102 rows × 20 columns</p>\n",
              "</div>"
            ],
            "text/plain": [
              "       row number            timestamp  ...  station_lat  station_long\n",
              "0               0  2009-02-10 10:00:00  ...      53.4167        6.2000\n",
              "1               1  2009-02-10 15:00:00  ...      53.4167        6.2000\n",
              "2               2  2009-02-11 10:00:00  ...      53.4167        6.2000\n",
              "3               3  2009-02-11 15:00:00  ...      53.4167        6.2000\n",
              "4               4  2009-02-12 10:00:00  ...      53.4167        6.2000\n",
              "...           ...                  ...  ...          ...           ...\n",
              "21097       21097  2009-06-21 15:00:00  ...      60.2833       27.1833\n",
              "21098       21098  2009-06-22 06:00:00  ...      60.2833       27.1833\n",
              "21099       21099  2009-06-22 09:00:00  ...      60.2833       27.1833\n",
              "21100       21100  2009-06-22 12:00:00  ...      60.2833       27.1833\n",
              "21101       21101  2009-06-22 15:00:00  ...      60.2833       27.1833\n",
              "\n",
              "[21102 rows x 20 columns]"
            ]
          },
          "metadata": {
            "tags": []
          },
          "execution_count": 4
        }
      ]
    },
    {
      "cell_type": "code",
      "metadata": {
        "id": "H1MhL2YDI2HT"
      },
      "source": [
        "# creates dataframe with only unique dates\n",
        "\n",
        "def date_to_nth_day(date):#, format='%Y%m%d'):\n",
        "    date = pd.to_datetime(date)#, format=format)\n",
        "    new_year_day = pd.Timestamp(year=date.year, month=1, day=1)\n",
        "    return (date - new_year_day).days + 1\n",
        "# source: https://codereview.stackexchange.com/questions/154140/interpret-yyyymmdd-as-the-nth-day-of-the-year\n",
        "\n",
        "\n",
        "# create a new DataFrame with only location data from unique days\n",
        "data = pd.DataFrame(columns=data_raw.columns) # create header\n",
        "for i, row in data_raw.iterrows():\n",
        "  if i>0: # skip first row\n",
        "    if (date_to_nth_day(row['timestamp']) != date_to_nth_day(data_raw['timestamp'][i-1])): \n",
        "      data = data.append(row, ignore_index=True)\n",
        "      #print(i)"
      ],
      "execution_count": 5,
      "outputs": []
    },
    {
      "cell_type": "code",
      "metadata": {
        "colab": {
          "base_uri": "https://localhost:8080/",
          "height": 34
        },
        "id": "sltDnK3fyRLw",
        "outputId": "4df617c2-a69d-4619-c524-7ae50049e8f2"
      },
      "source": [
        "# used for geese to eliminate characters in birdID\n",
        "\n",
        "data['birdID'][5800].replace('a', '2')"
      ],
      "execution_count": 6,
      "outputs": [
        {
          "output_type": "execute_result",
          "data": {
            "application/vnd.google.colaboratory.intrinsic+json": {
              "type": "string"
            },
            "text/plain": [
              "'780422'"
            ]
          },
          "metadata": {
            "tags": []
          },
          "execution_count": 6
        }
      ]
    },
    {
      "cell_type": "code",
      "metadata": {
        "id": "Ruzq8gYuIK6X"
      },
      "source": [
        "# Splits data into features (today) and targets (tomorrow)\n",
        "\n",
        "def get_todaytomorrow(data, includeTemp):\n",
        "  num_rows = len(data)\n",
        "  if includeTemp:\n",
        "    today = np.empty((0,7), dtype='float')#, 'int') #[]\n",
        "  else:\n",
        "    today = np.empty((0,4), 'int') #[]\n",
        "  tomorrow = np.empty((0,3), dtype='float') #, 'int') #[]\n",
        "  for i, row in data.iterrows():\n",
        "    if (i<(num_rows-3)):\n",
        "      if (pd.notnull(row['tavg']) & pd.notnull(data['tavg'][i+1])): # only add pair if both contain basic weather data (avg temp)\n",
        "        if (data['birdID'][i]==data['birdID'][i+1]):                # only add if birdIDs match\n",
        "          today_day = date_to_nth_day(row['timestamp'])\n",
        "          tomorrow_day = date_to_nth_day(data['timestamp'][i+1])\n",
        "#          if (tomorrow_day-today_day == 1):                         # makes sure that the days are consecutive -> already done ^\n",
        "          birdID_today = row['birdID'].replace('a','1')\n",
        "          birdID_today = birdID_today.replace('b', '2')\n",
        "          birdID_tomorrow = data['birdID'][i+1].replace('a','1')\n",
        "          birdID_tomorrow = birdID_tomorrow.replace('b','2')\n",
        "          if includeTemp:\n",
        "            today_entry = np.asarray([int(birdID_today), today_day, row['latitude'], row['longitude'], row['tavg'], row['tmin'], row['tmax'] ])\n",
        "            tomorrow_entry = np.asarray([int(birdID_tomorrow), data['latitude'][i+1], data['longitude'][i+1]]) #no change\n",
        "          else:\n",
        "            today_entry = np.asarray([int(birdID_today), today_day, row['latitude'], row['longitude']])\n",
        "            tomorrow_entry = np.asarray([int(birdID_tomorrow), data['latitude'][i+1], data['longitude'][i+1]]) # no change\n",
        "          today_entry[np.isnan(today_entry)]=0\n",
        "          tomorrow_entry[np.isnan(tomorrow_entry)]=0\n",
        "          today = np.vstack((today,today_entry))\n",
        "          tomorrow = np.vstack((tomorrow, tomorrow_entry))\n",
        "         #print(i)\n",
        "  return today, tomorrow\n",
        "\n",
        "today, tomorrow = get_todaytomorrow(data, includeTemp=includeTemp)"
      ],
      "execution_count": 7,
      "outputs": []
    },
    {
      "cell_type": "code",
      "metadata": {
        "id": "2a8pE1w8WEFo"
      },
      "source": [
        "# Split the data into training and testing sets\n",
        "features = today[:,1:] #data.values[:,:-1]\n",
        "labels = tomorrow[:,1:] #[:,[1,2]] #data.values[:, 60]\n",
        "#features = features.reshape(features.shape[0], features.shape[1], 1) if using CNN, may need to use this\n",
        "import math\n",
        "# Split the data into training and testing sets cronologically\n",
        "\n",
        "todaydf = pd.DataFrame(today)\n",
        "tomorrowdf = pd.DataFrame(tomorrow)\n",
        "\n",
        "def train_test_split(datafile, tomorrow, train_ratio):\n",
        "    \n",
        "    # Define dataframes to return\n",
        "    \n",
        "    xheaders = ['AnimalID', 'TS', 'Lat - 1', 'Long - 1']\n",
        "    yheaders = ['AnimalID', 'Lat', 'Long']\n",
        "    \n",
        "    trainx = pd.DataFrame(columns = xheaders)\n",
        "    trainy = pd.DataFrame(columns = yheaders)\n",
        "    testx = pd.DataFrame(columns = xheaders)\n",
        "    testy = pd.DataFrame(columns = yheaders)\n",
        "    \n",
        "    # Split each unique animal tracking info into training and testing sets\n",
        "    \n",
        "    for animal in datafile[0].unique():\n",
        "        traincount = math.ceil(float(datafile[datafile[0] == animal].shape[0]) * train_ratio)\n",
        "        obscount = datafile[datafile[0] == animal].shape[0]\n",
        "        obslist = datafile.index[datafile[0] == animal].tolist()\n",
        "        \n",
        "        for obs in range(0, traincount, 1):\n",
        "            dfx = [animal, datafile[1][obslist[obs]], datafile[2][obslist[obs]], datafile[3][obslist[obs]]]\n",
        "            dfy = [animal, tomorrow[1][obslist[obs]], tomorrow[2][obslist[obs]]]\n",
        "            \n",
        "            trainx.loc[len(trainx.index)] = dfx\n",
        "            trainy.loc[len(trainy.index)] = dfy\n",
        "\n",
        "        for obs in range(traincount, obscount, 1):\n",
        "            dfx = [animal, datafile[1][obslist[obs]], datafile[2][obslist[obs]], datafile[3][obslist[obs]]]\n",
        "            dfy = [animal, tomorrow[1][obslist[obs]], tomorrow[2][obslist[obs]]]\n",
        "            \n",
        "            testx.loc[len(testx.index)] = dfx\n",
        "            testy.loc[len(testy.index)] = dfy\n",
        "    \n",
        "    return(trainx, trainy, testx, testy)\n",
        "\n",
        "trainin_x, trainin_y, testin_x, testin_y = train_test_split(todaydf, tomorrowdf, 0.8)\n",
        "\n"
      ],
      "execution_count": 8,
      "outputs": []
    },
    {
      "cell_type": "code",
      "metadata": {
        "id": "ZBYtzSx84g8L"
      },
      "source": [
        "# converts data into correct type for keras model\n",
        "\n",
        "training_x = np.transpose(np.asarray([trainin_x['TS'], trainin_x['Lat - 1'], trainin_x['Long - 1']]).astype('float32'))\n",
        "training_y = np.transpose(np.asarray([trainin_y['Lat'], trainin_y['Long']]).astype('float32'))\n",
        "testing_x = np.transpose(np.asarray([testin_x['TS'], testin_x['Lat - 1'], testin_x['Long - 1']]).astype('float32'))\n",
        "testing_y = np.transpose(np.asarray([testin_y['Lat'], testin_y['Long']]).astype('float32'))\n",
        "# from https://stackoverflow.com/questions/48851558/tensorflow-estimator-valueerror-logits-and-labels-must-have-the-same-shape"
      ],
      "execution_count": 9,
      "outputs": []
    },
    {
      "cell_type": "markdown",
      "metadata": {
        "id": "5cPP4XbxbrSb"
      },
      "source": [
        "# Regression Model "
      ]
    },
    {
      "cell_type": "code",
      "metadata": {
        "id": "nLm0DyC9mcwT"
      },
      "source": [
        "# Regression packages\n",
        "import keras\n",
        "from keras.models import Sequential\n",
        "from keras.layers import Dense, Conv1D, Flatten\n",
        "from keras.wrappers.scikit_learn import KerasRegressor\n",
        "from sklearn.model_selection import cross_val_score\n",
        "from sklearn.model_selection import KFold\n",
        "from sklearn.preprocessing import StandardScaler\n",
        "from sklearn.pipeline import Pipeline\n",
        "from tensorflow.keras.layers.experimental import preprocessing"
      ],
      "execution_count": 10,
      "outputs": []
    },
    {
      "cell_type": "code",
      "metadata": {
        "id": "DsbPqC3581Em"
      },
      "source": [
        "# Normalization \n",
        "normalizer = preprocessing.Normalization()\n",
        "normalizer.adapt(np.array(training_x))\n",
        "\n",
        "# Build model, add layers\n",
        "input_size = training_x.shape[1]\n",
        "my_model = Sequential([normalizer, Dense(units=1)])\n",
        "my_model.add(Dense(32, input_dim=input_size, kernel_initializer='normal', activation='relu'))\n",
        "#my_model.add(Conv1D(32, 3, activation=\"relu\"))\n",
        "my_model.add(Dense(16,  kernel_initializer='normal', activation='relu'))\n",
        "#my_model.add(Dense(16,  kernel_initializer='normal', activation='relu'))\n",
        "my_model.add(Dense(8,  kernel_initializer='normal', activation='relu'))\n",
        "my_model.add(Dense(2, kernel_initializer='normal'))\n"
      ],
      "execution_count": 11,
      "outputs": []
    },
    {
      "cell_type": "code",
      "metadata": {
        "id": "-Hijc_DiCOlP",
        "colab": {
          "base_uri": "https://localhost:8080/",
          "height": 202
        },
        "outputId": "e43815ff-be53-4b79-eb96-6599281e407c"
      },
      "source": [
        "# Train model\n",
        "\n",
        "from tensorflow import optimizers\n",
        "my_model.compile(optimizer=optimizers.Adam(learning_rate=0.1),loss='mean_absolute_error')\n",
        "history = my_model.fit(training_x, training_y,epochs=50,verbose=0,validation_split = 0.2)\n",
        "\n",
        "hist = pd.DataFrame(history.history)\n",
        "hist['epoch'] = history.epoch\n",
        "hist.tail()"
      ],
      "execution_count": 12,
      "outputs": [
        {
          "output_type": "execute_result",
          "data": {
            "text/html": [
              "<div>\n",
              "<style scoped>\n",
              "    .dataframe tbody tr th:only-of-type {\n",
              "        vertical-align: middle;\n",
              "    }\n",
              "\n",
              "    .dataframe tbody tr th {\n",
              "        vertical-align: top;\n",
              "    }\n",
              "\n",
              "    .dataframe thead th {\n",
              "        text-align: right;\n",
              "    }\n",
              "</style>\n",
              "<table border=\"1\" class=\"dataframe\">\n",
              "  <thead>\n",
              "    <tr style=\"text-align: right;\">\n",
              "      <th></th>\n",
              "      <th>loss</th>\n",
              "      <th>val_loss</th>\n",
              "      <th>epoch</th>\n",
              "    </tr>\n",
              "  </thead>\n",
              "  <tbody>\n",
              "    <tr>\n",
              "      <th>45</th>\n",
              "      <td>1.026659</td>\n",
              "      <td>1.113879</td>\n",
              "      <td>45</td>\n",
              "    </tr>\n",
              "    <tr>\n",
              "      <th>46</th>\n",
              "      <td>0.972442</td>\n",
              "      <td>0.641967</td>\n",
              "      <td>46</td>\n",
              "    </tr>\n",
              "    <tr>\n",
              "      <th>47</th>\n",
              "      <td>0.952935</td>\n",
              "      <td>0.508583</td>\n",
              "      <td>47</td>\n",
              "    </tr>\n",
              "    <tr>\n",
              "      <th>48</th>\n",
              "      <td>0.992561</td>\n",
              "      <td>1.476328</td>\n",
              "      <td>48</td>\n",
              "    </tr>\n",
              "    <tr>\n",
              "      <th>49</th>\n",
              "      <td>1.118345</td>\n",
              "      <td>0.971543</td>\n",
              "      <td>49</td>\n",
              "    </tr>\n",
              "  </tbody>\n",
              "</table>\n",
              "</div>"
            ],
            "text/plain": [
              "        loss  val_loss  epoch\n",
              "45  1.026659  1.113879     45\n",
              "46  0.972442  0.641967     46\n",
              "47  0.952935  0.508583     47\n",
              "48  0.992561  1.476328     48\n",
              "49  1.118345  0.971543     49"
            ]
          },
          "metadata": {
            "tags": []
          },
          "execution_count": 12
        }
      ]
    },
    {
      "cell_type": "code",
      "metadata": {
        "id": "VmlA3hLsCL6L",
        "colab": {
          "base_uri": "https://localhost:8080/",
          "height": 278
        },
        "outputId": "5e50bbe4-bfd7-4b49-e394-1da2e90ca28a"
      },
      "source": [
        "# Plot loss by Epoch to evaluate model improvement\n",
        "\n",
        "def plot_loss(history):\n",
        "  plt.plot(history.history['loss'], label='loss')\n",
        "  plt.plot(history.history['val_loss'], label='val_loss')\n",
        "  #plt.ylim([0, 10])\n",
        "  plt.xlabel('Epoch')\n",
        "  plt.ylabel('Error')\n",
        "  plt.legend()\n",
        "  plt.grid(True)\n",
        "\n",
        "plot_loss(history)"
      ],
      "execution_count": 13,
      "outputs": [
        {
          "output_type": "display_data",
          "data": {
            "image/png": "[encoded data removed]",
            "text/plain": [
              "<Figure size 432x288 with 1 Axes>"
            ]
          },
          "metadata": {
            "tags": [],
            "needs_background": "light"
          }
        }
      ]
    },
    {
      "cell_type": "code",
      "metadata": {
        "id": "wTPpms_MDcIj",
        "colab": {
          "base_uri": "https://localhost:8080/"
        },
        "outputId": "9c48914e-e0b5-4adb-bf81-6da7f76680ae"
      },
      "source": [
        "my_model.evaluate(testing_x,testing_y, verbose=0)"
      ],
      "execution_count": 14,
      "outputs": [
        {
          "output_type": "execute_result",
          "data": {
            "text/plain": [
              "1.1683299541473389"
            ]
          },
          "metadata": {
            "tags": []
          },
          "execution_count": 14
        }
      ]
    },
    {
      "cell_type": "code",
      "metadata": {
        "id": "oNi758gMEg7Q",
        "colab": {
          "base_uri": "https://localhost:8080/",
          "height": 282
        },
        "outputId": "5b7c42ba-2236-445c-be68-717e671aee80"
      },
      "source": [
        "# Make predictions \n",
        "\n",
        "train_predictions = my_model.predict(training_x)#.flatten()\n",
        "test_predictions = my_model.predict(testing_x)#.flatten()\n",
        "\n",
        "test_predictions\n",
        "fig,ax = plt.subplots()\n",
        "\n",
        "ax.plot(testing_y[:,0], testing_y[:,1], 'o', label='Actual')\n",
        "ax.plot(test_predictions[:,0], test_predictions[:,1], 'o', label='Predicted')\n",
        "ax.legend()"
      ],
      "execution_count": 15,
      "outputs": [
        {
          "output_type": "execute_result",
          "data": {
            "text/plain": [
              "<matplotlib.legend.Legend at 0x7f5fbf0f3710>"
            ]
          },
          "metadata": {
            "tags": []
          },
          "execution_count": 15
        },
        {
          "output_type": "display_data",
          "data": {
            "image/png": "[encoded data removed]",
            "text/plain": [
              "<Figure size 432x288 with 1 Axes>"
            ]
          },
          "metadata": {
            "tags": [],
            "needs_background": "light"
          }
        }
      ]
    },
    {
      "cell_type": "code",
      "metadata": {
        "id": "_IwLMsR4VKZY",
        "colab": {
          "base_uri": "https://localhost:8080/",
          "height": 385
        },
        "outputId": "8f9989a5-c157-43cb-a6ec-9241ec2f437f"
      },
      "source": [
        "testing_error = np.sqrt((test_predictions[:,0] - testing_y[:,0])**2 + (test_predictions[:,1] - testing_y[:,1])**2)\n",
        "training_error = np.sqrt((train_predictions[:,0] - training_y[:,0])**2 + (train_predictions[:,1] - training_y[:,1])**2)\n",
        "# need to change this to account for lat/long to get real distance between points\n",
        "\n",
        "print(f'Mean testing error: {np.mean(testing_error)}')\n",
        "print(f'Mean training error: {np.mean(training_error)}')\n",
        "\n",
        "#fig = plt.figure()\n",
        "#ax = plt.axes(projection='3d')\n",
        "#ax.scatter3D(training_y[:,0],training_y[:,1], training_error, label='Training Error', marker='x', depthshade=False)\n",
        "#ax.scatter3D(testing_y[:,0],testing_y[:,1], testing_error,label='Testing Error', marker='x',depthshade=False)\n",
        "#ax.legend()\n",
        "\n",
        "from matplotlib.ticker import PercentFormatter\n",
        "bins_list = [0,1,2,3,4,5,6,7,8,9,10,11,12,13,14,15,16,17,18,19,20]\n",
        "fig = plt.figure()\n",
        "plt.hist([training_error, testing_error], bins=bins_list, label=['Training Error', 'Testing Error'], weights=[np.ones(len(training_error))/len(training_error), np.ones(len(testing_error))/len(testing_error)])\n",
        "#plt.hist(training_error, weights=np.ones(len(training_error))/len(training_error), label='Training Error', bins=bins_list )\n",
        "#plt.hist(testing_error, weights=np.ones(len(testing_error))/len(testing_error), label='Testing Error',bins=bins_list)\n",
        "\n",
        "plt.xlabel('Error')\n",
        "plt.ylabel('Percentage of Prediction')\n",
        "plt.gca().yaxis.set_major_formatter(PercentFormatter(1))\n",
        "plt.xlim(0,15)\n",
        "plt.legend()"
      ],
      "execution_count": 16,
      "outputs": [
        {
          "output_type": "stream",
          "text": [
            "Mean testing error: 1.7454818487167358\n",
            "Mean training error: 1.6147092580795288\n"
          ],
          "name": "stdout"
        },
        {
          "output_type": "stream",
          "text": [
            "/usr/local/lib/python3.7/dist-packages/numpy/core/_asarray.py:83: VisibleDeprecationWarning: Creating an ndarray from ragged nested sequences (which is a list-or-tuple of lists-or-tuples-or ndarrays with different lengths or shapes) is deprecated. If you meant to do this, you must specify 'dtype=object' when creating the ndarray\n",
            "  return array(a, dtype, copy=False, order=order)\n"
          ],
          "name": "stderr"
        },
        {
          "output_type": "execute_result",
          "data": {
            "text/plain": [
              "<matplotlib.legend.Legend at 0x7f5fcc837350>"
            ]
          },
          "metadata": {
            "tags": []
          },
          "execution_count": 16
        },
        {
          "output_type": "display_data",
          "data": {
            "image/png": "[encoded data removed]",
            "text/plain": [
              "<Figure size 432x288 with 1 Axes>"
            ]
          },
          "metadata": {
            "tags": [],
            "needs_background": "light"
          }
        }
      ]
    },
    {
      "cell_type": "code",
      "metadata": {
        "id": "uoRCNQdCFmF0",
        "colab": {
          "base_uri": "https://localhost:8080/",
          "height": 601
        },
        "outputId": "869cc92c-e1c0-449a-bb49-8babd52028b9"
      },
      "source": [
        "# Plot prediction on map \n",
        "\n",
        "from shapely.geometry import Point, LineString, MultiPoint\n",
        "import geopandas as gpd\n",
        "from geopandas import GeoDataFrame\n",
        "\n",
        "actual_plot=gpd.GeoDataFrame([[MultiPoint(np.flip(testing_y, axis=1))]],columns=['geometry'])\n",
        "predicted_plot=gpd.GeoDataFrame([[MultiPoint(np.flip(test_predictions, axis=1))]],columns=['geometry'])\n",
        "training_plot = gpd.GeoDataFrame([[MultiPoint(np.flip(training_y, axis=1))]], columns=['geometry'])\n",
        "minx, miny, maxx, maxy = actual_plot.geometry.total_bounds\n",
        "\n",
        "fig, ax = plt.subplots(figsize=(20,12))\n",
        "world = gpd.read_file(gpd.datasets.get_path('naturalearth_lowres'))\n",
        "\n",
        "world.plot(ax=ax)\n",
        "training_plot.plot(ax=ax,marker='o',label='Training', color='cyan', markersize=15)\n",
        "actual_plot.plot(ax=ax, marker='o', label='Actual', color='orange')\n",
        "predicted_plot.plot(ax=ax,marker='o',label='Predicted', color='red')\n",
        "\n",
        "ax.set_xlim(minx - 5, maxx + 5) # added/substracted value is to give some margin around total bounds\n",
        "ax.set_ylim(miny - 5, maxy + 5)\n",
        "ax.legend()\n",
        "#https://gis.stackexchange.com/questions/332624/geopandas-plot-two-layers-but-only-to-the-extent-of-the-smaller-one"
      ],
      "execution_count": 17,
      "outputs": [
        {
          "output_type": "execute_result",
          "data": {
            "text/plain": [
              "<matplotlib.legend.Legend at 0x7f5fbf0919d0>"
            ]
          },
          "metadata": {
            "tags": []
          },
          "execution_count": 17
        },
        {
          "output_type": "display_data",
          "data": {
            "image/png": "[encoded data removed]",
            "text/plain": [
              "<Figure size 1440x864 with 1 Axes>"
            ]
          },
          "metadata": {
            "tags": [],
            "needs_background": "light"
          }
        }
      ]
    }
  ]
}