{
  "nbformat": 4,
  "nbformat_minor": 0,
  "metadata": {
    "colab": {
      "name": "Migration Data Prediction V1",
      "provenance": [],
      "collapsed_sections": [],
      "include_colab_link": true
    },
    "kernelspec": {
      "name": "python3",
      "display_name": "Python 3"
    }
  },
  "cells": [
    {
      "cell_type": "markdown",
      "metadata": {
        "id": "view-in-github",
        "colab_type": "text"
      },
      "source": [
        "<a href=\"https://colab.research.google.com/github/JSRist0028/animalmigration/blob/main/Migration_Data_Prediction_V1.ipynb\" target=\"_parent\"><img src=\"https://colab.research.google.com/assets/colab-badge.svg\" alt=\"Open In Colab\"/></a>"
      ]
    },
    {
      "cell_type": "code",
      "metadata": {
        "colab": {
          "base_uri": "https://localhost:8080/"
        },
        "id": "ew8IxpzYFguF",
        "outputId": "a4f8ea57-8384-40fb-d2c8-c0f0b75ac92b"
      },
      "source": [
        "!pip install geopandas\n",
        "!pip install shapely"
      ],
      "execution_count": null,
      "outputs": [
        {
          "output_type": "stream",
          "text": [
            "Requirement already satisfied: geopandas in /usr/local/lib/python3.7/dist-packages (0.9.0)\n",
            "Requirement already satisfied: pandas>=0.24.0 in /usr/local/lib/python3.7/dist-packages (from geopandas) (1.1.5)\n",
            "Requirement already satisfied: pyproj>=2.2.0 in /usr/local/lib/python3.7/dist-packages (from geopandas) (3.0.1)\n",
            "Requirement already satisfied: shapely>=1.6 in /usr/local/lib/python3.7/dist-packages (from geopandas) (1.7.1)\n",
            "Requirement already satisfied: fiona>=1.8 in /usr/local/lib/python3.7/dist-packages (from geopandas) (1.8.19)\n",
            "Requirement already satisfied: pytz>=2017.2 in /usr/local/lib/python3.7/dist-packages (from pandas>=0.24.0->geopandas) (2018.9)\n",
            "Requirement already satisfied: numpy>=1.15.4 in /usr/local/lib/python3.7/dist-packages (from pandas>=0.24.0->geopandas) (1.19.5)\n",
            "Requirement already satisfied: python-dateutil>=2.7.3 in /usr/local/lib/python3.7/dist-packages (from pandas>=0.24.0->geopandas) (2.8.1)\n",
            "Requirement already satisfied: certifi in /usr/local/lib/python3.7/dist-packages (from pyproj>=2.2.0->geopandas) (2020.12.5)\n",
            "Requirement already satisfied: click-plugins>=1.0 in /usr/local/lib/python3.7/dist-packages (from fiona>=1.8->geopandas) (1.1.1)\n",
            "Requirement already satisfied: attrs>=17 in /usr/local/lib/python3.7/dist-packages (from fiona>=1.8->geopandas) (20.3.0)\n",
            "Requirement already satisfied: cligj>=0.5 in /usr/local/lib/python3.7/dist-packages (from fiona>=1.8->geopandas) (0.7.1)\n",
            "Requirement already satisfied: click<8,>=4.0 in /usr/local/lib/python3.7/dist-packages (from fiona>=1.8->geopandas) (7.1.2)\n",
            "Requirement already satisfied: six>=1.7 in /usr/local/lib/python3.7/dist-packages (from fiona>=1.8->geopandas) (1.15.0)\n",
            "Requirement already satisfied: munch in /usr/local/lib/python3.7/dist-packages (from fiona>=1.8->geopandas) (2.5.0)\n",
            "Requirement already satisfied: shapely in /usr/local/lib/python3.7/dist-packages (1.7.1)\n"
          ],
          "name": "stdout"
        }
      ]
    },
    {
      "cell_type": "code",
      "metadata": {
        "id": "-dA5jdXkWLxO"
      },
      "source": [
        "import pandas as pd\n",
        "import sklearn.preprocessing\n",
        "import sklearn.manifold \n",
        "import matplotlib.pyplot as plt\n",
        "import numpy as np"
      ],
      "execution_count": null,
      "outputs": []
    },
    {
      "cell_type": "markdown",
      "metadata": {
        "id": "IEoacm-CyUH_"
      },
      "source": [
        "**Change the csv file and whether or not to include temperature here:**"
      ]
    },
    {
      "cell_type": "code",
      "metadata": {
        "id": "paYMy5ZddIYn",
        "colab": {
          "base_uri": "https://localhost:8080/",
          "height": 790
        },
        "outputId": "d643076b-35c3-4b4e-c692-2701341dfcb9"
      },
      "source": [
        "data_raw = pd.read_csv('https://github.com/JSRist0028/animalmigration/blob/main/data/barnacle_geese_data_matrix?raw=true')\n",
        "#(\"/content/drive/MyDrive/Colab Notebooks/barnacle_geese_data_matrix\")\n",
        "includeTemp = True; \n",
        "data_raw"
      ],
      "execution_count": null,
      "outputs": [
        {
          "output_type": "execute_result",
          "data": {
            "text/html": [
              "<div>\n",
              "<style scoped>\n",
              "    .dataframe tbody tr th:only-of-type {\n",
              "        vertical-align: middle;\n",
              "    }\n",
              "\n",
              "    .dataframe tbody tr th {\n",
              "        vertical-align: top;\n",
              "    }\n",
              "\n",
              "    .dataframe thead th {\n",
              "        text-align: right;\n",
              "    }\n",
              "</style>\n",
              "<table border=\"1\" class=\"dataframe\">\n",
              "  <thead>\n",
              "    <tr style=\"text-align: right;\">\n",
              "      <th></th>\n",
              "      <th>row number</th>\n",
              "      <th>timestamp</th>\n",
              "      <th>latitude</th>\n",
              "      <th>longitude</th>\n",
              "      <th>height</th>\n",
              "      <th>speed</th>\n",
              "      <th>heading</th>\n",
              "      <th>birdID</th>\n",
              "      <th>tavg</th>\n",
              "      <th>tmin</th>\n",
              "      <th>tmax</th>\n",
              "      <th>prcp</th>\n",
              "      <th>snow</th>\n",
              "      <th>wdir</th>\n",
              "      <th>wspd</th>\n",
              "      <th>wpgt</th>\n",
              "      <th>pres</th>\n",
              "      <th>tsun</th>\n",
              "      <th>station_lat</th>\n",
              "      <th>station_long</th>\n",
              "    </tr>\n",
              "  </thead>\n",
              "  <tbody>\n",
              "    <tr>\n",
              "      <th>0</th>\n",
              "      <td>0</td>\n",
              "      <td>2009-02-10 10:00:00</td>\n",
              "      <td>53.38117</td>\n",
              "      <td>6.10583</td>\n",
              "      <td>1.0</td>\n",
              "      <td>0.0</td>\n",
              "      <td>51.0</td>\n",
              "      <td>78033</td>\n",
              "      <td>1.8</td>\n",
              "      <td>0.6</td>\n",
              "      <td>3.1</td>\n",
              "      <td>NaN</td>\n",
              "      <td>NaN</td>\n",
              "      <td>286.7</td>\n",
              "      <td>22.2</td>\n",
              "      <td>NaN</td>\n",
              "      <td>NaN</td>\n",
              "      <td>NaN</td>\n",
              "      <td>53.4167</td>\n",
              "      <td>6.2000</td>\n",
              "    </tr>\n",
              "    <tr>\n",
              "      <th>1</th>\n",
              "      <td>1</td>\n",
              "      <td>2009-02-10 15:00:00</td>\n",
              "      <td>53.39283</td>\n",
              "      <td>6.18700</td>\n",
              "      <td>1.0</td>\n",
              "      <td>1.0</td>\n",
              "      <td>351.0</td>\n",
              "      <td>78033</td>\n",
              "      <td>1.8</td>\n",
              "      <td>0.6</td>\n",
              "      <td>3.1</td>\n",
              "      <td>NaN</td>\n",
              "      <td>NaN</td>\n",
              "      <td>286.7</td>\n",
              "      <td>22.2</td>\n",
              "      <td>NaN</td>\n",
              "      <td>NaN</td>\n",
              "      <td>NaN</td>\n",
              "      <td>53.4167</td>\n",
              "      <td>6.2000</td>\n",
              "    </tr>\n",
              "    <tr>\n",
              "      <th>2</th>\n",
              "      <td>2</td>\n",
              "      <td>2009-02-11 10:00:00</td>\n",
              "      <td>53.40483</td>\n",
              "      <td>6.15600</td>\n",
              "      <td>1.0</td>\n",
              "      <td>0.0</td>\n",
              "      <td>98.0</td>\n",
              "      <td>78033</td>\n",
              "      <td>1.9</td>\n",
              "      <td>0.8</td>\n",
              "      <td>4.0</td>\n",
              "      <td>NaN</td>\n",
              "      <td>NaN</td>\n",
              "      <td>NaN</td>\n",
              "      <td>NaN</td>\n",
              "      <td>NaN</td>\n",
              "      <td>NaN</td>\n",
              "      <td>NaN</td>\n",
              "      <td>53.4167</td>\n",
              "      <td>6.2000</td>\n",
              "    </tr>\n",
              "    <tr>\n",
              "      <th>3</th>\n",
              "      <td>3</td>\n",
              "      <td>2009-02-11 15:00:00</td>\n",
              "      <td>53.40250</td>\n",
              "      <td>6.15683</td>\n",
              "      <td>1.0</td>\n",
              "      <td>0.0</td>\n",
              "      <td>153.0</td>\n",
              "      <td>78033</td>\n",
              "      <td>1.9</td>\n",
              "      <td>0.8</td>\n",
              "      <td>4.0</td>\n",
              "      <td>NaN</td>\n",
              "      <td>NaN</td>\n",
              "      <td>NaN</td>\n",
              "      <td>NaN</td>\n",
              "      <td>NaN</td>\n",
              "      <td>NaN</td>\n",
              "      <td>NaN</td>\n",
              "      <td>53.4167</td>\n",
              "      <td>6.2000</td>\n",
              "    </tr>\n",
              "    <tr>\n",
              "      <th>4</th>\n",
              "      <td>4</td>\n",
              "      <td>2009-02-12 10:00:00</td>\n",
              "      <td>53.36217</td>\n",
              "      <td>6.13750</td>\n",
              "      <td>1.0</td>\n",
              "      <td>0.0</td>\n",
              "      <td>61.0</td>\n",
              "      <td>78033</td>\n",
              "      <td>2.1</td>\n",
              "      <td>1.0</td>\n",
              "      <td>3.9</td>\n",
              "      <td>NaN</td>\n",
              "      <td>NaN</td>\n",
              "      <td>242.1</td>\n",
              "      <td>25.5</td>\n",
              "      <td>NaN</td>\n",
              "      <td>NaN</td>\n",
              "      <td>NaN</td>\n",
              "      <td>53.4167</td>\n",
              "      <td>6.2000</td>\n",
              "    </tr>\n",
              "    <tr>\n",
              "      <th>...</th>\n",
              "      <td>...</td>\n",
              "      <td>...</td>\n",
              "      <td>...</td>\n",
              "      <td>...</td>\n",
              "      <td>...</td>\n",
              "      <td>...</td>\n",
              "      <td>...</td>\n",
              "      <td>...</td>\n",
              "      <td>...</td>\n",
              "      <td>...</td>\n",
              "      <td>...</td>\n",
              "      <td>...</td>\n",
              "      <td>...</td>\n",
              "      <td>...</td>\n",
              "      <td>...</td>\n",
              "      <td>...</td>\n",
              "      <td>...</td>\n",
              "      <td>...</td>\n",
              "      <td>...</td>\n",
              "      <td>...</td>\n",
              "    </tr>\n",
              "    <tr>\n",
              "      <th>21097</th>\n",
              "      <td>21097</td>\n",
              "      <td>2009-06-21 15:00:00</td>\n",
              "      <td>60.31100</td>\n",
              "      <td>27.08550</td>\n",
              "      <td>1.0</td>\n",
              "      <td>0.0</td>\n",
              "      <td>59.0</td>\n",
              "      <td>78042b</td>\n",
              "      <td>14.7</td>\n",
              "      <td>11.3</td>\n",
              "      <td>18.8</td>\n",
              "      <td>NaN</td>\n",
              "      <td>NaN</td>\n",
              "      <td>NaN</td>\n",
              "      <td>4.8</td>\n",
              "      <td>NaN</td>\n",
              "      <td>1026.1</td>\n",
              "      <td>NaN</td>\n",
              "      <td>60.2833</td>\n",
              "      <td>27.1833</td>\n",
              "    </tr>\n",
              "    <tr>\n",
              "      <th>21098</th>\n",
              "      <td>21098</td>\n",
              "      <td>2009-06-22 06:00:00</td>\n",
              "      <td>60.31100</td>\n",
              "      <td>27.08567</td>\n",
              "      <td>1.0</td>\n",
              "      <td>0.0</td>\n",
              "      <td>328.0</td>\n",
              "      <td>78042b</td>\n",
              "      <td>17.5</td>\n",
              "      <td>13.5</td>\n",
              "      <td>21.2</td>\n",
              "      <td>NaN</td>\n",
              "      <td>NaN</td>\n",
              "      <td>145.0</td>\n",
              "      <td>8.3</td>\n",
              "      <td>NaN</td>\n",
              "      <td>1027.1</td>\n",
              "      <td>NaN</td>\n",
              "      <td>60.2833</td>\n",
              "      <td>27.1833</td>\n",
              "    </tr>\n",
              "    <tr>\n",
              "      <th>21099</th>\n",
              "      <td>21099</td>\n",
              "      <td>2009-06-22 09:00:00</td>\n",
              "      <td>60.31100</td>\n",
              "      <td>27.08567</td>\n",
              "      <td>1.0</td>\n",
              "      <td>0.0</td>\n",
              "      <td>222.0</td>\n",
              "      <td>78042b</td>\n",
              "      <td>17.5</td>\n",
              "      <td>13.5</td>\n",
              "      <td>21.2</td>\n",
              "      <td>NaN</td>\n",
              "      <td>NaN</td>\n",
              "      <td>145.0</td>\n",
              "      <td>8.3</td>\n",
              "      <td>NaN</td>\n",
              "      <td>1027.1</td>\n",
              "      <td>NaN</td>\n",
              "      <td>60.2833</td>\n",
              "      <td>27.1833</td>\n",
              "    </tr>\n",
              "    <tr>\n",
              "      <th>21100</th>\n",
              "      <td>21100</td>\n",
              "      <td>2009-06-22 12:00:00</td>\n",
              "      <td>60.31100</td>\n",
              "      <td>27.08550</td>\n",
              "      <td>1.0</td>\n",
              "      <td>0.0</td>\n",
              "      <td>6.0</td>\n",
              "      <td>78042b</td>\n",
              "      <td>17.5</td>\n",
              "      <td>13.5</td>\n",
              "      <td>21.2</td>\n",
              "      <td>NaN</td>\n",
              "      <td>NaN</td>\n",
              "      <td>145.0</td>\n",
              "      <td>8.3</td>\n",
              "      <td>NaN</td>\n",
              "      <td>1027.1</td>\n",
              "      <td>NaN</td>\n",
              "      <td>60.2833</td>\n",
              "      <td>27.1833</td>\n",
              "    </tr>\n",
              "    <tr>\n",
              "      <th>21101</th>\n",
              "      <td>21101</td>\n",
              "      <td>2009-06-22 15:00:00</td>\n",
              "      <td>60.31100</td>\n",
              "      <td>27.08567</td>\n",
              "      <td>1.0</td>\n",
              "      <td>0.0</td>\n",
              "      <td>271.0</td>\n",
              "      <td>78042b</td>\n",
              "      <td>17.5</td>\n",
              "      <td>13.5</td>\n",
              "      <td>21.2</td>\n",
              "      <td>NaN</td>\n",
              "      <td>NaN</td>\n",
              "      <td>145.0</td>\n",
              "      <td>8.3</td>\n",
              "      <td>NaN</td>\n",
              "      <td>1027.1</td>\n",
              "      <td>NaN</td>\n",
              "      <td>60.2833</td>\n",
              "      <td>27.1833</td>\n",
              "    </tr>\n",
              "  </tbody>\n",
              "</table>\n",
              "<p>21102 rows × 20 columns</p>\n",
              "</div>"
            ],
            "text/plain": [
              "       row number            timestamp  ...  station_lat  station_long\n",
              "0               0  2009-02-10 10:00:00  ...      53.4167        6.2000\n",
              "1               1  2009-02-10 15:00:00  ...      53.4167        6.2000\n",
              "2               2  2009-02-11 10:00:00  ...      53.4167        6.2000\n",
              "3               3  2009-02-11 15:00:00  ...      53.4167        6.2000\n",
              "4               4  2009-02-12 10:00:00  ...      53.4167        6.2000\n",
              "...           ...                  ...  ...          ...           ...\n",
              "21097       21097  2009-06-21 15:00:00  ...      60.2833       27.1833\n",
              "21098       21098  2009-06-22 06:00:00  ...      60.2833       27.1833\n",
              "21099       21099  2009-06-22 09:00:00  ...      60.2833       27.1833\n",
              "21100       21100  2009-06-22 12:00:00  ...      60.2833       27.1833\n",
              "21101       21101  2009-06-22 15:00:00  ...      60.2833       27.1833\n",
              "\n",
              "[21102 rows x 20 columns]"
            ]
          },
          "metadata": {
            "tags": []
          },
          "execution_count": 11
        }
      ]
    },
    {
      "cell_type": "code",
      "metadata": {
        "id": "H1MhL2YDI2HT"
      },
      "source": [
        "# creates dataframe with only unique dates\n",
        "\n",
        "def date_to_nth_day(date):#, format='%Y%m%d'):\n",
        "    date = pd.to_datetime(date)#, format=format)\n",
        "    new_year_day = pd.Timestamp(year=date.year, month=1, day=1)\n",
        "    return (date - new_year_day).days + 1\n",
        "# source: https://codereview.stackexchange.com/questions/154140/interpret-yyyymmdd-as-the-nth-day-of-the-year\n",
        "\n",
        "\n",
        "# create a new DataFrame with only location data from unique days\n",
        "data = pd.DataFrame(columns=data_raw.columns) # create header\n",
        "for i, row in data_raw.iterrows():\n",
        "  if i>0: # skip first row\n",
        "    if (date_to_nth_day(row['timestamp']) != date_to_nth_day(data_raw['timestamp'][i-1])): \n",
        "      data = data.append(row, ignore_index=True)\n",
        "      #print(i)"
      ],
      "execution_count": null,
      "outputs": []
    },
    {
      "cell_type": "code",
      "metadata": {
        "colab": {
          "base_uri": "https://localhost:8080/",
          "height": 35
        },
        "id": "sltDnK3fyRLw",
        "outputId": "7b9378f5-6a51-4302-b378-859276139f9c"
      },
      "source": [
        "# used for birds to eliminate characters in birdID\n",
        "\n",
        "data['birdID'][5800].replace('a', '2')"
      ],
      "execution_count": null,
      "outputs": [
        {
          "output_type": "execute_result",
          "data": {
            "application/vnd.google.colaboratory.intrinsic+json": {
              "type": "string"
            },
            "text/plain": [
              "'780422'"
            ]
          },
          "metadata": {
            "tags": []
          },
          "execution_count": 45
        }
      ]
    },
    {
      "cell_type": "code",
      "metadata": {
        "id": "Ruzq8gYuIK6X"
      },
      "source": [
        "def get_todaytomorrow(data, includeTemp): # create feature vector (today) and labels (tomorrow)\n",
        "  num_rows = len(data)\n",
        "  if includeTemp:\n",
        "    today = np.empty((0,7), dtype='float')#, 'int') #[]\n",
        "  else:\n",
        "    today = np.empty((0,4), 'int') #[]\n",
        "  tomorrow = np.empty((0,3), dtype='float') #, 'int') #[]\n",
        "  for i, row in data.iterrows():\n",
        "    if (i<(num_rows-3)):\n",
        "      if (pd.notnull(row['tavg']) & pd.notnull(data['tavg'][i+1])): # only add pair if both contain basic weather data (avg temp)\n",
        "        if (data['birdID'][i]==data['birdID'][i+1]):                # only add if birdIDs match\n",
        "          today_day = date_to_nth_day(row['timestamp'])\n",
        "          tomorrow_day = date_to_nth_day(data['timestamp'][i+1])\n",
        "#          if (tomorrow_day-today_day == 1):                         # makes sure that the days are consecutive -> already done ^\n",
        "          birdID_today = row['birdID'].replace('a','1')\n",
        "          birdID_today = birdID_today.replace('b', '2')\n",
        "          birdID_tomorrow = data['birdID'][i+1].replace('a','1')\n",
        "          birdID_tomorrow = birdID_tomorrow.replace('b','2')\n",
        "          if includeTemp:\n",
        "            today_entry = np.asarray([int(birdID_today), today_day, row['latitude'], row['longitude'], row['tavg'], row['tmin'], row['tmax'] ])\n",
        "            tomorrow_entry = np.asarray([int(birdID_tomorrow), data['latitude'][i+1], data['longitude'][i+1]]) #no change\n",
        "          else:\n",
        "            today_entry = np.asarray([int(birdID_today), today_day, row['latitude'], row['longitude']])\n",
        "            tomorrow_entry = np.asarray([int(birdID_tomorrow), data['latitude'][i+1], data['longitude'][i+1]]) # no change\n",
        "          today_entry[np.isnan(today_entry)]=0\n",
        "          tomorrow_entry[np.isnan(tomorrow_entry)]=0\n",
        "          today = np.vstack((today,today_entry))\n",
        "          tomorrow = np.vstack((tomorrow, tomorrow_entry))\n",
        "         #print(i)\n",
        "  return today, tomorrow\n",
        "\n",
        "today, tomorrow = get_todaytomorrow(data, includeTemp=includeTemp)"
      ],
      "execution_count": null,
      "outputs": []
    },
    {
      "cell_type": "code",
      "metadata": {
        "id": "2a8pE1w8WEFo"
      },
      "source": [
        "# Split the data into training and testing sets\n",
        "features = today[:,1:] #data.values[:,:-1]\n",
        "labels = tomorrow[:,1:] #[:,[1,2]] #data.values[:, 60]\n",
        "#features = features.reshape(features.shape[0], features.shape[1], 1) if using CNN, may need to use this\n",
        "import math\n",
        "# Split the data into training and testing sets cronologically\n",
        "\n",
        "todaydf = pd.DataFrame(today)\n",
        "tomorrowdf = pd.DataFrame(tomorrow)\n",
        "\n",
        "def train_test_split(datafile, tomorrow, train_ratio):\n",
        "    \n",
        "    # Define dataframes to return\n",
        "    \n",
        "    xheaders = ['AnimalID', 'TS', 'Lat - 1', 'Long - 1']\n",
        "    yheaders = ['AnimalID', 'Lat', 'Long']\n",
        "    \n",
        "    trainx = pd.DataFrame(columns = xheaders)\n",
        "    trainy = pd.DataFrame(columns = yheaders)\n",
        "    testx = pd.DataFrame(columns = xheaders)\n",
        "    testy = pd.DataFrame(columns = yheaders)\n",
        "    \n",
        "    # Split each unique animal tracking info into training and testing sets\n",
        "    \n",
        "    for animal in datafile[0].unique():\n",
        "        traincount = math.ceil(float(datafile[datafile[0] == animal].shape[0]) * train_ratio)\n",
        "        obscount = datafile[datafile[0] == animal].shape[0]\n",
        "        obslist = datafile.index[datafile[0] == animal].tolist()\n",
        "        \n",
        "        for obs in range(0, traincount, 1):\n",
        "            dfx = [animal, datafile[1][obslist[obs]], datafile[2][obslist[obs]], datafile[3][obslist[obs]]]\n",
        "            dfy = [animal, tomorrow[1][obslist[obs]], tomorrow[2][obslist[obs]]]\n",
        "            \n",
        "            trainx.loc[len(trainx.index)] = dfx\n",
        "            trainy.loc[len(trainy.index)] = dfy\n",
        "\n",
        "        for obs in range(traincount, obscount, 1):\n",
        "            dfx = [animal, datafile[1][obslist[obs]], datafile[2][obslist[obs]], datafile[3][obslist[obs]]]\n",
        "            dfy = [animal, tomorrow[1][obslist[obs]], tomorrow[2][obslist[obs]]]\n",
        "            \n",
        "            testx.loc[len(testx.index)] = dfx\n",
        "            testy.loc[len(testy.index)] = dfy\n",
        "    \n",
        "    return(trainx, trainy, testx, testy)\n",
        "\n",
        "trainin_x, trainin_y, testin_x, testin_y = train_test_split(todaydf, tomorrowdf, 0.8)\n",
        "\n",
        "\n",
        "\n",
        "#training_x, testing_x, training_y, testing_y = sklearn.model_selection.train_test_split(features, labels, test_size=0.3,)\n",
        "\n"
      ],
      "execution_count": null,
      "outputs": []
    },
    {
      "cell_type": "code",
      "metadata": {
        "id": "ZBYtzSx84g8L"
      },
      "source": [
        "training_x = np.transpose(np.asarray([trainin_x['TS'], trainin_x['Lat - 1'], trainin_x['Long - 1']]).astype('float32'))\n",
        "training_y = np.transpose(np.asarray([trainin_y['Lat'], trainin_y['Long']]).astype('float32'))\n",
        "testing_x = np.transpose(np.asarray([testin_x['TS'], testin_x['Lat - 1'], testin_x['Long - 1']]).astype('float32'))\n",
        "testing_y = np.transpose(np.asarray([testin_y['Lat'], testin_y['Long']]).astype('float32'))\n",
        "# from https://stackoverflow.com/questions/48851558/tensorflow-estimator-valueerror-logits-and-labels-must-have-the-same-shape"
      ],
      "execution_count": null,
      "outputs": []
    },
    {
      "cell_type": "code",
      "metadata": {
        "colab": {
          "base_uri": "https://localhost:8080/"
        },
        "id": "0kqbbhST6Dcz",
        "outputId": "3c3a9cc9-c0c1-43ec-821f-d3b46a75be28"
      },
      "source": [
        "training_x.shape"
      ],
      "execution_count": null,
      "outputs": [
        {
          "output_type": "execute_result",
          "data": {
            "text/plain": [
              "(3540, 3)"
            ]
          },
          "metadata": {
            "tags": []
          },
          "execution_count": 108
        }
      ]
    },
    {
      "cell_type": "markdown",
      "metadata": {
        "id": "5cPP4XbxbrSb"
      },
      "source": [
        "# Regression Model "
      ]
    },
    {
      "cell_type": "code",
      "metadata": {
        "id": "nLm0DyC9mcwT"
      },
      "source": [
        "# Regression\n",
        "import keras\n",
        "from keras.models import Sequential\n",
        "from keras.layers import Dense, Conv1D, Flatten\n",
        "from keras.wrappers.scikit_learn import KerasRegressor\n",
        "from sklearn.model_selection import cross_val_score\n",
        "from sklearn.model_selection import KFold\n",
        "from sklearn.preprocessing import StandardScaler\n",
        "from sklearn.pipeline import Pipeline\n",
        "from tensorflow.keras.layers.experimental import preprocessing"
      ],
      "execution_count": null,
      "outputs": []
    },
    {
      "cell_type": "code",
      "metadata": {
        "id": "DsbPqC3581Em"
      },
      "source": [
        "# Normalization \n",
        "normalizer = preprocessing.Normalization()\n",
        "normalizer.adapt(np.array(training_x))\n",
        "\n",
        "# Build model, add layers\n",
        "input_size = training_x.shape[1]\n",
        "my_model = Sequential([normalizer, Dense(units=1)])\n",
        "my_model.add(Dense(32, input_dim=input_size, kernel_initializer='normal', activation='relu'))\n",
        "#my_model.add(Conv1D(32, 3, activation=\"relu\"))\n",
        "my_model.add(Dense(16,  kernel_initializer='normal', activation='relu'))\n",
        "#my_model.add(Dense(16,  kernel_initializer='normal', activation='relu'))\n",
        "my_model.add(Dense(8,  kernel_initializer='normal', activation='relu'))\n",
        "my_model.add(Dense(2, kernel_initializer='normal'))\n",
        "\n",
        "#my_model.summary()\n",
        "# https://www.tensorflow.org/tutorials/keras/regression"
      ],
      "execution_count": null,
      "outputs": []
    },
    {
      "cell_type": "code",
      "metadata": {
        "id": "7Y7NmuQBB-9B"
      },
      "source": [
        "#my_model.predict(training_x)\n",
        "#training_x"
      ],
      "execution_count": null,
      "outputs": []
    },
    {
      "cell_type": "code",
      "metadata": {
        "id": "-Hijc_DiCOlP",
        "colab": {
          "base_uri": "https://localhost:8080/",
          "height": 198
        },
        "outputId": "cbda9261-515b-4f4f-dafe-b337929a3f67"
      },
      "source": [
        "from tensorflow import optimizers\n",
        "my_model.compile(optimizer=optimizers.Adam(learning_rate=0.1),loss='mean_absolute_error')\n",
        "history = my_model.fit(training_x, training_y,epochs=50,verbose=0,validation_split = 0.2)\n",
        "\n",
        "hist = pd.DataFrame(history.history)\n",
        "hist['epoch'] = history.epoch\n",
        "hist.tail()"
      ],
      "execution_count": null,
      "outputs": [
        {
          "output_type": "execute_result",
          "data": {
            "text/html": [
              "<div>\n",
              "<style scoped>\n",
              "    .dataframe tbody tr th:only-of-type {\n",
              "        vertical-align: middle;\n",
              "    }\n",
              "\n",
              "    .dataframe tbody tr th {\n",
              "        vertical-align: top;\n",
              "    }\n",
              "\n",
              "    .dataframe thead th {\n",
              "        text-align: right;\n",
              "    }\n",
              "</style>\n",
              "<table border=\"1\" class=\"dataframe\">\n",
              "  <thead>\n",
              "    <tr style=\"text-align: right;\">\n",
              "      <th></th>\n",
              "      <th>loss</th>\n",
              "      <th>val_loss</th>\n",
              "      <th>epoch</th>\n",
              "    </tr>\n",
              "  </thead>\n",
              "  <tbody>\n",
              "    <tr>\n",
              "      <th>45</th>\n",
              "      <td>1.241366</td>\n",
              "      <td>0.943027</td>\n",
              "      <td>45</td>\n",
              "    </tr>\n",
              "    <tr>\n",
              "      <th>46</th>\n",
              "      <td>1.197315</td>\n",
              "      <td>0.699423</td>\n",
              "      <td>46</td>\n",
              "    </tr>\n",
              "    <tr>\n",
              "      <th>47</th>\n",
              "      <td>1.005499</td>\n",
              "      <td>1.652187</td>\n",
              "      <td>47</td>\n",
              "    </tr>\n",
              "    <tr>\n",
              "      <th>48</th>\n",
              "      <td>1.131494</td>\n",
              "      <td>1.103658</td>\n",
              "      <td>48</td>\n",
              "    </tr>\n",
              "    <tr>\n",
              "      <th>49</th>\n",
              "      <td>0.852470</td>\n",
              "      <td>0.926905</td>\n",
              "      <td>49</td>\n",
              "    </tr>\n",
              "  </tbody>\n",
              "</table>\n",
              "</div>"
            ],
            "text/plain": [
              "        loss  val_loss  epoch\n",
              "45  1.241366  0.943027     45\n",
              "46  1.197315  0.699423     46\n",
              "47  1.005499  1.652187     47\n",
              "48  1.131494  1.103658     48\n",
              "49  0.852470  0.926905     49"
            ]
          },
          "metadata": {
            "tags": []
          },
          "execution_count": 111
        }
      ]
    },
    {
      "cell_type": "code",
      "metadata": {
        "id": "VmlA3hLsCL6L",
        "colab": {
          "base_uri": "https://localhost:8080/",
          "height": 279
        },
        "outputId": "f5ab44fd-3648-4c32-f826-8bd835b55994"
      },
      "source": [
        "def plot_loss(history):\n",
        "  plt.plot(history.history['loss'], label='loss')\n",
        "  plt.plot(history.history['val_loss'], label='val_loss')\n",
        "  #plt.ylim([0, 10])\n",
        "  plt.xlabel('Epoch')\n",
        "  plt.ylabel('Error')\n",
        "  plt.legend()\n",
        "  plt.grid(True)\n",
        "\n",
        "plot_loss(history)"
      ],
      "execution_count": null,
      "outputs": [
        {
          "output_type": "display_data",
          "data": {
            "image/png": "[encoded data removed]",
            "text/plain": [
              "<Figure size 432x288 with 1 Axes>"
            ]
          },
          "metadata": {
            "tags": [],
            "needs_background": "light"
          }
        }
      ]
    },
    {
      "cell_type": "code",
      "metadata": {
        "id": "wTPpms_MDcIj",
        "colab": {
          "base_uri": "https://localhost:8080/"
        },
        "outputId": "9d6ae736-6b0a-4e17-ed69-cb04a07673bf"
      },
      "source": [
        "my_model.evaluate(testing_x,testing_y, verbose=0)"
      ],
      "execution_count": null,
      "outputs": [
        {
          "output_type": "execute_result",
          "data": {
            "text/plain": [
              "1.0367683172225952"
            ]
          },
          "metadata": {
            "tags": []
          },
          "execution_count": 113
        }
      ]
    },
    {
      "cell_type": "code",
      "metadata": {
        "id": "oNi758gMEg7Q",
        "colab": {
          "base_uri": "https://localhost:8080/",
          "height": 283
        },
        "outputId": "8de6ca6e-d35b-46ba-aa41-33632bb529d6"
      },
      "source": [
        "# Make predictions \n",
        "train_predictions = my_model.predict(training_x)#.flatten()\n",
        "test_predictions = my_model.predict(testing_x)#.flatten()\n",
        "\n",
        "test_predictions\n",
        "fig,ax = plt.subplots()\n",
        "\n",
        "ax.plot(testing_y[:,0], testing_y[:,1], 'o', label='Actual')\n",
        "ax.plot(test_predictions[:,0], test_predictions[:,1], 'o', label='Predicted')\n",
        "ax.legend()"
      ],
      "execution_count": null,
      "outputs": [
        {
          "output_type": "execute_result",
          "data": {
            "text/plain": [
              "<matplotlib.legend.Legend at 0x7f3ac7753490>"
            ]
          },
          "metadata": {
            "tags": []
          },
          "execution_count": 114
        },
        {
          "output_type": "display_data",
          "data": {
            "image/png": "[encoded data removed]",
            "text/plain": [
              "<Figure size 432x288 with 1 Axes>"
            ]
          },
          "metadata": {
            "tags": [],
            "needs_background": "light"
          }
        }
      ]
    },
    {
      "cell_type": "code",
      "metadata": {
        "id": "_IwLMsR4VKZY",
        "colab": {
          "base_uri": "https://localhost:8080/",
          "height": 390
        },
        "outputId": "43a49604-8f2b-4d0e-dfea-4bc2288c1862"
      },
      "source": [
        "testing_error = np.sqrt((test_predictions[:,0] - testing_y[:,0])**2 + (test_predictions[:,1] - testing_y[:,1])**2)\n",
        "training_error = np.sqrt((train_predictions[:,0] - training_y[:,0])**2 + (train_predictions[:,1] - training_y[:,1])**2)\n",
        "# need to change this to account for lat/long to get real distance between points\n",
        "\n",
        "print(f'Mean testing error: {np.mean(testing_error)}')\n",
        "print(f'Mean training error: {np.mean(training_error)}')\n",
        "\n",
        "#fig = plt.figure()\n",
        "#ax = plt.axes(projection='3d')\n",
        "#ax.scatter3D(training_y[:,0],training_y[:,1], training_error, label='Training Error', marker='x', depthshade=False)\n",
        "#ax.scatter3D(testing_y[:,0],testing_y[:,1], testing_error,label='Testing Error', marker='x',depthshade=False)\n",
        "#ax.legend()\n",
        "\n",
        "from matplotlib.ticker import PercentFormatter\n",
        "bins_list = [0,1,2,3,4,5,6,7,8,9,10,11,12,13,14,15,16,17,18,19,20]\n",
        "fig = plt.figure()\n",
        "plt.hist([training_error, testing_error], bins=bins_list, label=['Training Error', 'Testing Error'], weights=[np.ones(len(training_error))/len(training_error), np.ones(len(testing_error))/len(testing_error)])\n",
        "#plt.hist(training_error, weights=np.ones(len(training_error))/len(training_error), label='Training Error', bins=bins_list )\n",
        "#plt.hist(testing_error, weights=np.ones(len(testing_error))/len(testing_error), label='Testing Error',bins=bins_list)\n",
        "\n",
        "plt.xlabel('Error')\n",
        "plt.ylabel('Percentage of Prediction')\n",
        "plt.gca().yaxis.set_major_formatter(PercentFormatter(1))\n",
        "plt.xlim(0,15)\n",
        "plt.legend()"
      ],
      "execution_count": null,
      "outputs": [
        {
          "output_type": "stream",
          "text": [
            "Mean testing error: 1.7105141878128052\n",
            "Mean training error: 1.6003321409225464\n"
          ],
          "name": "stdout"
        },
        {
          "output_type": "stream",
          "text": [
            "/usr/local/lib/python3.7/dist-packages/numpy/core/_asarray.py:83: VisibleDeprecationWarning: Creating an ndarray from ragged nested sequences (which is a list-or-tuple of lists-or-tuples-or ndarrays with different lengths or shapes) is deprecated. If you meant to do this, you must specify 'dtype=object' when creating the ndarray\n",
            "  return array(a, dtype, copy=False, order=order)\n"
          ],
          "name": "stderr"
        },
        {
          "output_type": "execute_result",
          "data": {
            "text/plain": [
              "<matplotlib.legend.Legend at 0x7f3ac77e5f10>"
            ]
          },
          "metadata": {
            "tags": []
          },
          "execution_count": 115
        },
        {
          "output_type": "display_data",
          "data": {
            "image/png": "[encoded data removed]",
            "text/plain": [
              "<Figure size 432x288 with 1 Axes>"
            ]
          },
          "metadata": {
            "tags": [],
            "needs_background": "light"
          }
        }
      ]
    },
    {
      "cell_type": "code",
      "metadata": {
        "id": "uoRCNQdCFmF0",
        "colab": {
          "base_uri": "https://localhost:8080/",
          "height": 412
        },
        "outputId": "f805a1be-77ed-420e-a2f1-3bdd0785f8f5"
      },
      "source": [
        "from shapely.geometry import Point, LineString, MultiPoint\n",
        "import geopandas as gpd\n",
        "from geopandas import GeoDataFrame\n",
        "\n",
        "actual_plot=gpd.GeoDataFrame([[MultiPoint(np.flip(testing_y, axis=1))]],columns=['geometry'])\n",
        "predicted_plot=gpd.GeoDataFrame([[MultiPoint(np.flip(test_predictions, axis=1))]],columns=['geometry'])\n",
        "training_plot = gpd.GeoDataFrame([[MultiPoint(np.flip(training_y, axis=1))]], columns=['geometry'])\n",
        "minx, miny, maxx, maxy = actual_plot.geometry.total_bounds\n",
        "\n",
        "fig, ax = plt.subplots(figsize=(20,12))\n",
        "world = gpd.read_file(gpd.datasets.get_path('naturalearth_lowres'))\n",
        "\n",
        "world.plot(ax=ax)\n",
        "training_plot.plot(ax=ax,marker='o',label='Training', color='cyan', markersize=15)\n",
        "actual_plot.plot(ax=ax, marker='o', label='Actual', color='orange')\n",
        "predicted_plot.plot(ax=ax,marker='o',label='Predicted', color='red')\n",
        "\n",
        "ax.set_xlim(minx - 5, maxx + 5) # added/substracted value is to give some margin around total bounds\n",
        "ax.set_ylim(miny - 5, maxy + 5)\n",
        "ax.legend()\n",
        "#https://gis.stackexchange.com/questions/332624/geopandas-plot-two-layers-but-only-to-the-extent-of-the-smaller-one"
      ],
      "execution_count": null,
      "outputs": [
        {
          "output_type": "execute_result",
          "data": {
            "text/plain": [
              "<matplotlib.legend.Legend at 0x7f3ac77c2750>"
            ]
          },
          "metadata": {
            "tags": []
          },
          "execution_count": 116
        },
        {
          "output_type": "display_data",
          "data": {
            "image/png": "[encoded data removed]",
            "text/plain": [
              "<Figure size 1440x864 with 1 Axes>"
            ]
          },
          "metadata": {
            "tags": [],
            "needs_background": "light"
          }
        }
      ]
    }
  ]
}